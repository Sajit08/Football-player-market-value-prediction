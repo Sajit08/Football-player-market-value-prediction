{
 "cells": [
  {
   "cell_type": "code",
   "execution_count": 225,
   "metadata": {
    "collapsed": true
   },
   "outputs": [],
   "source": [
    "import pandas as pd"
   ]
  },
  {
   "cell_type": "code",
   "execution_count": 226,
   "outputs": [
    {
     "data": {
      "text/plain": "   club_id                name         pretty_name domestic_competition_id  \\\n0     1032          fc-reading          Fc Reading                     GB1   \n1     2323            orduspor            Orduspor                     TR1   \n2     1387      acn-siena-1904      Acn Siena 1904                     IT1   \n3     3592  kryvbas-kryvyi-rig  Kryvbas Kryvyi Rig                    UKR1   \n4     1071      wigan-athletic      Wigan Athletic                     GB1   \n\n   total_market_value  squad_size  average_age  foreigners_number  \\\n0               33.66          26         25.9                 12   \n1                 NaN           0          NaN                  0   \n2                4.32          30         26.2                  6   \n3                2.95          24         24.5                  2   \n4               12.38          29         26.5                 14   \n\n   foreigners_percentage  national_team_players                stadium_name  \\\n0                   46.2                      6  Select Car Leasing Stadium   \n1                    NaN                      0            19 Eylül Stadyum   \n2                   20.0                      2             Artemio Franchi   \n3                    8.3                      0           Shakhty Zhovtneva   \n4                   48.3                      6                  DW Stadium   \n\n   stadium_seats net_transfer_record        coach_name  \\\n0          24161             +£8.37m   Brian McDermott   \n1          11024                 +-0      Héctor Cúper   \n2          15373              £-6Th.       Serse Cosmi   \n3           2500            £-270Th.        Oleg Taran   \n4          25133            £-140Th.  Roberto Martínez   \n\n                                                 url  \n0  https://www.transfermarkt.co.uk/fc-reading/sta...  \n1  https://www.transfermarkt.co.uk/orduspor/start...  \n2  https://www.transfermarkt.co.uk/acn-siena-1904...  \n3  https://www.transfermarkt.co.uk/kryvbas-kryvyi...  \n4  https://www.transfermarkt.co.uk/wigan-athletic...  ",
      "text/html": "<div>\n<style scoped>\n    .dataframe tbody tr th:only-of-type {\n        vertical-align: middle;\n    }\n\n    .dataframe tbody tr th {\n        vertical-align: top;\n    }\n\n    .dataframe thead th {\n        text-align: right;\n    }\n</style>\n<table border=\"1\" class=\"dataframe\">\n  <thead>\n    <tr style=\"text-align: right;\">\n      <th></th>\n      <th>club_id</th>\n      <th>name</th>\n      <th>pretty_name</th>\n      <th>domestic_competition_id</th>\n      <th>total_market_value</th>\n      <th>squad_size</th>\n      <th>average_age</th>\n      <th>foreigners_number</th>\n      <th>foreigners_percentage</th>\n      <th>national_team_players</th>\n      <th>stadium_name</th>\n      <th>stadium_seats</th>\n      <th>net_transfer_record</th>\n      <th>coach_name</th>\n      <th>url</th>\n    </tr>\n  </thead>\n  <tbody>\n    <tr>\n      <th>0</th>\n      <td>1032</td>\n      <td>fc-reading</td>\n      <td>Fc Reading</td>\n      <td>GB1</td>\n      <td>33.66</td>\n      <td>26</td>\n      <td>25.9</td>\n      <td>12</td>\n      <td>46.2</td>\n      <td>6</td>\n      <td>Select Car Leasing Stadium</td>\n      <td>24161</td>\n      <td>+£8.37m</td>\n      <td>Brian McDermott</td>\n      <td>https://www.transfermarkt.co.uk/fc-reading/sta...</td>\n    </tr>\n    <tr>\n      <th>1</th>\n      <td>2323</td>\n      <td>orduspor</td>\n      <td>Orduspor</td>\n      <td>TR1</td>\n      <td>NaN</td>\n      <td>0</td>\n      <td>NaN</td>\n      <td>0</td>\n      <td>NaN</td>\n      <td>0</td>\n      <td>19 Eylül Stadyum</td>\n      <td>11024</td>\n      <td>+-0</td>\n      <td>Héctor Cúper</td>\n      <td>https://www.transfermarkt.co.uk/orduspor/start...</td>\n    </tr>\n    <tr>\n      <th>2</th>\n      <td>1387</td>\n      <td>acn-siena-1904</td>\n      <td>Acn Siena 1904</td>\n      <td>IT1</td>\n      <td>4.32</td>\n      <td>30</td>\n      <td>26.2</td>\n      <td>6</td>\n      <td>20.0</td>\n      <td>2</td>\n      <td>Artemio Franchi</td>\n      <td>15373</td>\n      <td>£-6Th.</td>\n      <td>Serse Cosmi</td>\n      <td>https://www.transfermarkt.co.uk/acn-siena-1904...</td>\n    </tr>\n    <tr>\n      <th>3</th>\n      <td>3592</td>\n      <td>kryvbas-kryvyi-rig</td>\n      <td>Kryvbas Kryvyi Rig</td>\n      <td>UKR1</td>\n      <td>2.95</td>\n      <td>24</td>\n      <td>24.5</td>\n      <td>2</td>\n      <td>8.3</td>\n      <td>0</td>\n      <td>Shakhty Zhovtneva</td>\n      <td>2500</td>\n      <td>£-270Th.</td>\n      <td>Oleg Taran</td>\n      <td>https://www.transfermarkt.co.uk/kryvbas-kryvyi...</td>\n    </tr>\n    <tr>\n      <th>4</th>\n      <td>1071</td>\n      <td>wigan-athletic</td>\n      <td>Wigan Athletic</td>\n      <td>GB1</td>\n      <td>12.38</td>\n      <td>29</td>\n      <td>26.5</td>\n      <td>14</td>\n      <td>48.3</td>\n      <td>6</td>\n      <td>DW Stadium</td>\n      <td>25133</td>\n      <td>£-140Th.</td>\n      <td>Roberto Martínez</td>\n      <td>https://www.transfermarkt.co.uk/wigan-athletic...</td>\n    </tr>\n  </tbody>\n</table>\n</div>"
     },
     "execution_count": 226,
     "metadata": {},
     "output_type": "execute_result"
    }
   ],
   "source": [
    "#Load all dataset\n",
    "appearances_df = pd.read_csv('appearances.csv')\n",
    "players_df = pd.read_csv('players.csv')\n",
    "clubs_df = pd.read_csv('clubs.csv')\n",
    "valuations_df = pd.read_csv('player_valuations.csv')\n",
    "clubs_df.head()"
   ],
   "metadata": {
    "collapsed": false,
    "pycharm": {
     "name": "#%%\n"
    }
   }
  },
  {
   "cell_type": "code",
   "execution_count": 227,
   "outputs": [
    {
     "name": "stderr",
     "output_type": "stream",
     "text": [
      "/var/folders/25/v0klc1td0jb3lh9rsz8kf4cm0000gn/T/ipykernel_60657/763911003.py:6: FutureWarning: The default value of numeric_only in DataFrameGroupBy.sum is deprecated. In a future version, numeric_only will default to False. Either specify numeric_only or select only columns which should be valid for the function.\n",
      "  appearances_df= appearances_df.groupby(by=[appearances_df.player_id, appearances_df.date.dt.year]).sum().reset_index()\n"
     ]
    },
    {
     "data": {
      "text/plain": "   player_id    date  goals  assists  minutes_played  yellow_cards  red_cards\n0         10  2014.0      4        3             496             2          0\n1         10  2015.0     12        8            2429             6          0\n2         10  2016.0      8        5            1078             1          0\n3         26  2014.0      0        0            1530             0          0\n4         26  2015.0      0        0            2160             0          0",
      "text/html": "<div>\n<style scoped>\n    .dataframe tbody tr th:only-of-type {\n        vertical-align: middle;\n    }\n\n    .dataframe tbody tr th {\n        vertical-align: top;\n    }\n\n    .dataframe thead th {\n        text-align: right;\n    }\n</style>\n<table border=\"1\" class=\"dataframe\">\n  <thead>\n    <tr style=\"text-align: right;\">\n      <th></th>\n      <th>player_id</th>\n      <th>date</th>\n      <th>goals</th>\n      <th>assists</th>\n      <th>minutes_played</th>\n      <th>yellow_cards</th>\n      <th>red_cards</th>\n    </tr>\n  </thead>\n  <tbody>\n    <tr>\n      <th>0</th>\n      <td>10</td>\n      <td>2014.0</td>\n      <td>4</td>\n      <td>3</td>\n      <td>496</td>\n      <td>2</td>\n      <td>0</td>\n    </tr>\n    <tr>\n      <th>1</th>\n      <td>10</td>\n      <td>2015.0</td>\n      <td>12</td>\n      <td>8</td>\n      <td>2429</td>\n      <td>6</td>\n      <td>0</td>\n    </tr>\n    <tr>\n      <th>2</th>\n      <td>10</td>\n      <td>2016.0</td>\n      <td>8</td>\n      <td>5</td>\n      <td>1078</td>\n      <td>1</td>\n      <td>0</td>\n    </tr>\n    <tr>\n      <th>3</th>\n      <td>26</td>\n      <td>2014.0</td>\n      <td>0</td>\n      <td>0</td>\n      <td>1530</td>\n      <td>0</td>\n      <td>0</td>\n    </tr>\n    <tr>\n      <th>4</th>\n      <td>26</td>\n      <td>2015.0</td>\n      <td>0</td>\n      <td>0</td>\n      <td>2160</td>\n      <td>0</td>\n      <td>0</td>\n    </tr>\n  </tbody>\n</table>\n</div>"
     },
     "execution_count": 227,
     "metadata": {},
     "output_type": "execute_result"
    }
   ],
   "source": [
    "# clean table appearances\n",
    "# drop columns and calculate players' total goals, assists,\n",
    "# minutes_played, yellow cards and red cards of each year\n",
    "appearances_df = appearances_df.drop(['player_pretty_name', 'game_id', 'appearance_id', 'competition_id', 'player_club_id'], axis=1)\n",
    "appearances_df['date'] = pd.to_datetime(appearances_df['date'])\n",
    "appearances_df= appearances_df.groupby(by=[appearances_df.player_id, appearances_df.date.dt.year]).sum().reset_index()\n",
    "appearances_df.head()"
   ],
   "metadata": {
    "collapsed": false,
    "pycharm": {
     "name": "#%%\n"
    }
   }
  },
  {
   "cell_type": "code",
   "execution_count": 228,
   "outputs": [
    {
     "data": {
      "text/plain": "   club_id  total_market_value\n0     1032               33.66\n1     2323                1.00\n2     1387                4.32\n3     3592                2.95\n4     1071               12.38",
      "text/html": "<div>\n<style scoped>\n    .dataframe tbody tr th:only-of-type {\n        vertical-align: middle;\n    }\n\n    .dataframe tbody tr th {\n        vertical-align: top;\n    }\n\n    .dataframe thead th {\n        text-align: right;\n    }\n</style>\n<table border=\"1\" class=\"dataframe\">\n  <thead>\n    <tr style=\"text-align: right;\">\n      <th></th>\n      <th>club_id</th>\n      <th>total_market_value</th>\n    </tr>\n  </thead>\n  <tbody>\n    <tr>\n      <th>0</th>\n      <td>1032</td>\n      <td>33.66</td>\n    </tr>\n    <tr>\n      <th>1</th>\n      <td>2323</td>\n      <td>1.00</td>\n    </tr>\n    <tr>\n      <th>2</th>\n      <td>1387</td>\n      <td>4.32</td>\n    </tr>\n    <tr>\n      <th>3</th>\n      <td>3592</td>\n      <td>2.95</td>\n    </tr>\n    <tr>\n      <th>4</th>\n      <td>1071</td>\n      <td>12.38</td>\n    </tr>\n  </tbody>\n</table>\n</div>"
     },
     "execution_count": 228,
     "metadata": {},
     "output_type": "execute_result"
    }
   ],
   "source": [
    "#clean table clubs\n",
    "#drop columns and clean the missing value\n",
    "clubs_df = clubs_df[['club_id','total_market_value']]\n",
    "clubs_df['total_market_value'] = clubs_df['total_market_value'].fillna(1)\n",
    "clubs_df.head()"
   ],
   "metadata": {
    "collapsed": false,
    "pycharm": {
     "name": "#%%\n"
    }
   }
  },
  {
   "cell_type": "code",
   "execution_count": 229,
   "outputs": [
    {
     "name": "stdout",
     "output_type": "stream",
     "text": [
      "   player_id  country_of_birth  country_of_citizenship  date_of_birth  \\\n",
      "0     254016                62                      62           1992   \n",
      "2      31451               156                     156           1986   \n",
      "3      44622                60                      43           1981   \n",
      "4      30802               141                     141           1984   \n",
      "5     214776                33                      33           1993   \n",
      "\n",
      "   position  sub_position  foot  height_in_cm  club_id  \n",
      "0         2             6     1           186      855  \n",
      "2         0             4     1           192       23  \n",
      "3         1            11     1           182     3691  \n",
      "4         0             4     1           183     3302  \n",
      "5         0             4     1           191       43  \n"
     ]
    }
   ],
   "source": [
    "# clean table players\n",
    "# drop columns and clean the missing value\n",
    "players_df = players_df[['player_id', 'country_of_birth', 'country_of_citizenship',\n",
    "                         'date_of_birth', 'position', 'sub_position', 'foot', 'height_in_cm', 'club_id']]\n",
    "players_df = players_df.dropna()\n",
    "# convert the types of column\n",
    "players_df['date_of_birth'] = pd.DatetimeIndex(pd.to_datetime(players_df['date_of_birth'])).year\n",
    "players_df['date_of_birth'] = players_df['date_of_birth'].astype(int)\n",
    "# assign integer values for foot, position, sub position and countries\n",
    "players_df['foot'] = players_df['foot'].map({'Right': 1, 'Left': 0, 'Both': 2})\n",
    "players_df['position'] = players_df['position'].map({'Attack': 0, 'Defender': 1, 'Midfield': 2, 'Goalkeeper': 3})\n",
    "countries_of_birth = set(players_df['country_of_birth'])\n",
    "countries_of_citizenship = set(players_df['country_of_citizenship'])\n",
    "countries = countries_of_birth.union(countries_of_citizenship)\n",
    "country_dict = {country:val for val, country in enumerate(countries)}\n",
    "players_df['country_of_birth'] = players_df['country_of_birth'].map(country_dict)\n",
    "players_df['country_of_citizenship'] = players_df['country_of_citizenship'].map(country_dict)\n",
    "sub_position = set(players_df['sub_position'])\n",
    "sp_dict = {position:val for val, position in enumerate(sub_position)}\n",
    "players_df['sub_position'] = players_df['sub_position'].map(sp_dict)\n",
    "print(players_df.head())"
   ],
   "metadata": {
    "collapsed": false,
    "pycharm": {
     "name": "#%%\n"
    }
   }
  },
  {
   "cell_type": "code",
   "execution_count": 230,
   "outputs": [
    {
     "name": "stderr",
     "output_type": "stream",
     "text": [
      "/var/folders/25/v0klc1td0jb3lh9rsz8kf4cm0000gn/T/ipykernel_60657/2020395686.py:5: FutureWarning: The default value of numeric_only in DataFrameGroupBy.mean is deprecated. In a future version, numeric_only will default to False. Either specify numeric_only or select only columns which should be valid for the function.\n",
      "  valuations_df = valuations_df.groupby(by=[valuations_df.player_id, valuations_df.date.dt.year]).mean().reset_index()\n"
     ]
    }
   ],
   "source": [
    "# clean table players valuation\n",
    "# drop columns and calculate average market value of each year\n",
    "valuations_df = valuations_df[['player_id', 'date', 'market_value']]\n",
    "valuations_df['date'] = pd.to_datetime(valuations_df['date'])\n",
    "valuations_df = valuations_df.groupby(by=[valuations_df.player_id, valuations_df.date.dt.year]).mean().reset_index()"
   ],
   "metadata": {
    "collapsed": false,
    "pycharm": {
     "name": "#%%\n"
    }
   }
  },
  {
   "cell_type": "code",
   "execution_count": 231,
   "outputs": [],
   "source": [
    "# merge all tables into one\n",
    "# export to a csv file\n",
    "df1 = players_df.merge(clubs_df)\n",
    "df2 = appearances_df.merge(df1)\n",
    "df = df2.merge(valuations_df)\n",
    "df.head()\n",
    "df.to_csv('final.csv')"
   ],
   "metadata": {
    "collapsed": false,
    "pycharm": {
     "name": "#%%\n"
    }
   }
  },
  {
   "cell_type": "code",
   "execution_count": 231,
   "outputs": [],
   "source": [],
   "metadata": {
    "collapsed": false,
    "pycharm": {
     "name": "#%%\n"
    }
   }
  },
  {
   "cell_type": "code",
   "execution_count": 231,
   "outputs": [],
   "source": [],
   "metadata": {
    "collapsed": false,
    "pycharm": {
     "name": "#%%\n"
    }
   }
  }
 ],
 "metadata": {
  "kernelspec": {
   "display_name": "Python 3",
   "language": "python",
   "name": "python3"
  },
  "language_info": {
   "codemirror_mode": {
    "name": "ipython",
    "version": 2
   },
   "file_extension": ".py",
   "mimetype": "text/x-python",
   "name": "python",
   "nbconvert_exporter": "python",
   "pygments_lexer": "ipython2",
   "version": "2.7.6"
  }
 },
 "nbformat": 4,
 "nbformat_minor": 0
}